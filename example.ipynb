{
 "cells": [
  {
   "cell_type": "code",
   "execution_count": 1,
   "id": "7b3c822e-5e0b-4f14-96af-11e82116b2b3",
   "metadata": {},
   "outputs": [],
   "source": [
    "%load_ext autoreload\n",
    "%autoreload 2"
   ]
  },
  {
   "cell_type": "code",
   "execution_count": 2,
   "id": "930c6f8f-3c09-4985-bc55-4d787aafc5e5",
   "metadata": {},
   "outputs": [
    {
     "data": {
      "application/vnd.jupyter.widget-view+json": {
       "model_id": "66cdc2f8dfe44cb68a64fd4abea1eda9",
       "version_major": 2,
       "version_minor": 0
      },
      "text/plain": []
     },
     "metadata": {},
     "output_type": "display_data"
    }
   ],
   "source": [
    "from funnel.gui import *\n",
    "import mdtraj as md \n",
    "\n",
    "traj = md.load(\"data/9j1g.pdb\")\n"
   ]
  },
  {
   "cell_type": "code",
   "execution_count": 3,
   "id": "f56597f4-6ffa-464c-b3fd-824c86a341ea",
   "metadata": {},
   "outputs": [
    {
     "data": {
      "application/vnd.jupyter.widget-view+json": {
       "model_id": "166249f7b77f4e06882b5571ec36db45",
       "version_major": 2,
       "version_minor": 0
      },
      "text/plain": [
       "VBox(children=(VBox(children=(TwoByTwoLayout(children=(FloatSlider(value=0.0, description='lower_wall', layout…"
      ]
     },
     "execution_count": 3,
     "metadata": {},
     "output_type": "execute_result"
    }
   ],
   "source": [
    "FunnelDashboard(traj).display()"
   ]
  }
 ],
 "metadata": {
  "kernelspec": {
   "display_name": "funnel",
   "language": "python",
   "name": "python3"
  },
  "language_info": {
   "codemirror_mode": {
    "name": "ipython",
    "version": 3
   },
   "file_extension": ".py",
   "mimetype": "text/x-python",
   "name": "python",
   "nbconvert_exporter": "python",
   "pygments_lexer": "ipython3",
   "version": "3.12.8"
  }
 },
 "nbformat": 4,
 "nbformat_minor": 5
}
